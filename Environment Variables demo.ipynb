{
 "cells": [
  {
   "cell_type": "markdown",
   "id": "4ae7a3e9",
   "metadata": {},
   "source": [
    "## How to store sensitive data using environment variables and a special file called .env \n",
    "\n",
    "## How to interact with this file using the python-dotenv module and keep your sensitive data out of sight."
   ]
  },
  {
   "cell_type": "markdown",
   "id": "176c84a5",
   "metadata": {},
   "source": [
    "Environment variables are variables that hold data that you don’t want to hardcode into your programs.\n",
    "They’re abstracted away and taken out of the code."
   ]
  },
  {
   "cell_type": "markdown",
   "id": "cbbdfc65",
   "metadata": {},
   "source": [
    "## Important notes\n",
    "\n",
    ".env file is a way to set environment variables at a local scope.\n",
    "\n",
    ".env files are text files that contain key/value pairs of all the environment variables required by your application.\n",
    "\n",
    "They enable you to use environment variables without polluting the global environment namespace. In fact, each separate project can have its own .env file."
   ]
  },
  {
   "cell_type": "code",
   "execution_count": 3,
   "id": "1ea190a2",
   "metadata": {},
   "outputs": [
    {
     "name": "stdout",
     "output_type": "stream",
     "text": [
      "Collecting python-dotenv\n",
      "  Downloading python_dotenv-0.19.1-py2.py3-none-any.whl (17 kB)\n",
      "Installing collected packages: python-dotenv\n",
      "Successfully installed python-dotenv-0.19.1\n"
     ]
    }
   ],
   "source": [
    "#First time installation\n",
    "!pip install python-dotenv"
   ]
  },
  {
   "cell_type": "code",
   "execution_count": 4,
   "id": "f9bf5c94",
   "metadata": {},
   "outputs": [],
   "source": [
    "#import all necessary libraries\n",
    "\n",
    "import os\n",
    "from dotenv import load_dotenv\n",
    "\n",
    "from sqlalchemy import create_engine\n",
    "import tweepy\n",
    "import pandas as pd"
   ]
  },
  {
   "cell_type": "code",
   "execution_count": 5,
   "id": "fd89e77a",
   "metadata": {},
   "outputs": [
    {
     "data": {
      "text/plain": [
       "True"
      ]
     },
     "execution_count": 5,
     "metadata": {},
     "output_type": "execute_result"
    }
   ],
   "source": [
    "#Check if environment variables can be loaded from the file and make them accessible to your project\n",
    "\n",
    "load_dotenv()"
   ]
  },
  {
   "cell_type": "code",
   "execution_count": 6,
   "id": "7c3eb279",
   "metadata": {},
   "outputs": [],
   "source": [
    "#setup all the authentication keys\n",
    "\n",
    "consumer_key = os.getenv(\"consumer_key\")\n",
    "consumer_secret = os.getenv(\"consumer_secret\")\n",
    "access_token = os.getenv(\"access_token\")\n",
    "access_token_secret = os.getenv(\"access_token_secret\")\n",
    "\n",
    "auth = tweepy.OAuthHandler(consumer_key, consumer_secret)\n",
    "auth.set_access_token(access_token, access_token_secret)\n",
    "api = tweepy.API(auth,wait_on_rate_limit=True)\n"
   ]
  },
  {
   "cell_type": "code",
   "execution_count": 7,
   "id": "e0eb37e7",
   "metadata": {},
   "outputs": [
    {
     "ename": "TweepError",
     "evalue": "[{'code': 89, 'message': 'Invalid or expired token.'}]",
     "output_type": "error",
     "traceback": [
      "\u001b[1;31m---------------------------------------------------------------------------\u001b[0m",
      "\u001b[1;31mTweepError\u001b[0m                                Traceback (most recent call last)",
      "\u001b[1;32m~\\AppData\\Local\\Temp/ipykernel_13512/460500517.py\u001b[0m in \u001b[0;36m<module>\u001b[1;34m\u001b[0m\n\u001b[0;32m      5\u001b[0m \u001b[1;33m\u001b[0m\u001b[0m\n\u001b[0;32m      6\u001b[0m \u001b[1;31m#Using Joe Biden's screen_name\u001b[0m\u001b[1;33m\u001b[0m\u001b[1;33m\u001b[0m\u001b[1;33m\u001b[0m\u001b[0m\n\u001b[1;32m----> 7\u001b[1;33m \u001b[0mTweetuser\u001b[0m \u001b[1;33m=\u001b[0m \u001b[0mapi\u001b[0m\u001b[1;33m.\u001b[0m\u001b[0mlookup_users\u001b[0m\u001b[1;33m(\u001b[0m\u001b[0mscreen_name\u001b[0m\u001b[1;33m=\u001b[0m\u001b[1;34m'JoeBiden'\u001b[0m\u001b[1;33m)\u001b[0m\u001b[1;33m\u001b[0m\u001b[1;33m\u001b[0m\u001b[0m\n\u001b[0m\u001b[0;32m      8\u001b[0m \u001b[1;33m\u001b[0m\u001b[0m\n\u001b[0;32m      9\u001b[0m \u001b[1;31m#Print Joe Biden's profile info\u001b[0m\u001b[1;33m\u001b[0m\u001b[1;33m\u001b[0m\u001b[1;33m\u001b[0m\u001b[0m\n",
      "\u001b[1;32m~\\anaconda3\\envs\\BIDA\\lib\\site-packages\\tweepy\\api.py\u001b[0m in \u001b[0;36mlookup_users\u001b[1;34m(self, user_ids, screen_names, *args, **kwargs)\u001b[0m\n\u001b[0;32m    394\u001b[0m                            \u001b[1;34m'tweet_mode'\u001b[0m\u001b[1;33m\u001b[0m\u001b[1;33m\u001b[0m\u001b[0m\n\u001b[0;32m    395\u001b[0m         \"\"\"\n\u001b[1;32m--> 396\u001b[1;33m         return bind_api(\n\u001b[0m\u001b[0;32m    397\u001b[0m             \u001b[0mapi\u001b[0m\u001b[1;33m=\u001b[0m\u001b[0mself\u001b[0m\u001b[1;33m,\u001b[0m\u001b[1;33m\u001b[0m\u001b[1;33m\u001b[0m\u001b[0m\n\u001b[0;32m    398\u001b[0m             \u001b[0mpath\u001b[0m\u001b[1;33m=\u001b[0m\u001b[1;34m'/users/lookup.json'\u001b[0m\u001b[1;33m,\u001b[0m\u001b[1;33m\u001b[0m\u001b[1;33m\u001b[0m\u001b[0m\n",
      "\u001b[1;32m~\\anaconda3\\envs\\BIDA\\lib\\site-packages\\tweepy\\binder.py\u001b[0m in \u001b[0;36m_call\u001b[1;34m(*args, **kwargs)\u001b[0m\n\u001b[0;32m    251\u001b[0m                 \u001b[1;32mreturn\u001b[0m \u001b[0mmethod\u001b[0m\u001b[1;33m\u001b[0m\u001b[1;33m\u001b[0m\u001b[0m\n\u001b[0;32m    252\u001b[0m             \u001b[1;32melse\u001b[0m\u001b[1;33m:\u001b[0m\u001b[1;33m\u001b[0m\u001b[1;33m\u001b[0m\u001b[0m\n\u001b[1;32m--> 253\u001b[1;33m                 \u001b[1;32mreturn\u001b[0m \u001b[0mmethod\u001b[0m\u001b[1;33m.\u001b[0m\u001b[0mexecute\u001b[0m\u001b[1;33m(\u001b[0m\u001b[1;33m)\u001b[0m\u001b[1;33m\u001b[0m\u001b[1;33m\u001b[0m\u001b[0m\n\u001b[0m\u001b[0;32m    254\u001b[0m         \u001b[1;32mfinally\u001b[0m\u001b[1;33m:\u001b[0m\u001b[1;33m\u001b[0m\u001b[1;33m\u001b[0m\u001b[0m\n\u001b[0;32m    255\u001b[0m             \u001b[0mmethod\u001b[0m\u001b[1;33m.\u001b[0m\u001b[0msession\u001b[0m\u001b[1;33m.\u001b[0m\u001b[0mclose\u001b[0m\u001b[1;33m(\u001b[0m\u001b[1;33m)\u001b[0m\u001b[1;33m\u001b[0m\u001b[1;33m\u001b[0m\u001b[0m\n",
      "\u001b[1;32m~\\anaconda3\\envs\\BIDA\\lib\\site-packages\\tweepy\\binder.py\u001b[0m in \u001b[0;36mexecute\u001b[1;34m(self)\u001b[0m\n\u001b[0;32m    232\u001b[0m                     \u001b[1;32mraise\u001b[0m \u001b[0mRateLimitError\u001b[0m\u001b[1;33m(\u001b[0m\u001b[0merror_msg\u001b[0m\u001b[1;33m,\u001b[0m \u001b[0mresp\u001b[0m\u001b[1;33m)\u001b[0m\u001b[1;33m\u001b[0m\u001b[1;33m\u001b[0m\u001b[0m\n\u001b[0;32m    233\u001b[0m                 \u001b[1;32melse\u001b[0m\u001b[1;33m:\u001b[0m\u001b[1;33m\u001b[0m\u001b[1;33m\u001b[0m\u001b[0m\n\u001b[1;32m--> 234\u001b[1;33m                     \u001b[1;32mraise\u001b[0m \u001b[0mTweepError\u001b[0m\u001b[1;33m(\u001b[0m\u001b[0merror_msg\u001b[0m\u001b[1;33m,\u001b[0m \u001b[0mresp\u001b[0m\u001b[1;33m,\u001b[0m \u001b[0mapi_code\u001b[0m\u001b[1;33m=\u001b[0m\u001b[0mapi_error_code\u001b[0m\u001b[1;33m)\u001b[0m\u001b[1;33m\u001b[0m\u001b[1;33m\u001b[0m\u001b[0m\n\u001b[0m\u001b[0;32m    235\u001b[0m \u001b[1;33m\u001b[0m\u001b[0m\n\u001b[0;32m    236\u001b[0m             \u001b[1;31m# Parse the response payload\u001b[0m\u001b[1;33m\u001b[0m\u001b[1;33m\u001b[0m\u001b[1;33m\u001b[0m\u001b[0m\n",
      "\u001b[1;31mTweepError\u001b[0m: [{'code': 89, 'message': 'Invalid or expired token.'}]"
     ]
    }
   ],
   "source": [
    "#To get user profile\n",
    "\n",
    "#Using Joe Biden's user id\n",
    "#Tweetuser = api.lookup_users(user_id=['939091']) \n",
    "\n",
    "#Using Joe Biden's screen_name\n",
    "Tweetuser = api.lookup_users(screen_name='JoeBiden') \n",
    "\n",
    "#Print Joe Biden's profile info\n",
    "i=0\n",
    "print ('Name - ' + Tweetuser[i].name)\n",
    "print ('Bio - ' + Tweetuser[i].description)\n",
    "print ('Location - ' + Tweetuser[i].location)\n",
    "print ('Joined at - ' + str(Tweetuser[i].created_at))\n",
    "print ('User ID - ' + Tweetuser[i].id_str)"
   ]
  },
  {
   "cell_type": "code",
   "execution_count": 5,
   "id": "d7ad7929",
   "metadata": {},
   "outputs": [
    {
     "name": "stdout",
     "output_type": "stream",
     "text": [
      "This is the follower information\n",
      "1430328851993821184        ErikaPe01853760         JoeBiden\n",
      "1448448814428393478        AgainstColon         JoeBiden\n",
      "1235745155577024513        Jeff30821996         JoeBiden\n",
      "1448448070925135872        d_kingvon         JoeBiden\n",
      "73427624        emoschella         JoeBiden\n",
      "1448447556070092803        Tengbeh11Sahr         JoeBiden\n",
      "1448122957583224834        4Shore411         JoeBiden\n",
      "1096336001058799617        Wayne32357314         JoeBiden\n",
      "479764871        dougent1         JoeBiden\n",
      "1448448212688330761        AZAD6321777         JoeBiden\n"
     ]
    }
   ],
   "source": [
    "# collect the user's social network information from the Twitter user- Joe Biden (@JoeBiden).\n",
    "# get the follower informaton \n",
    "\n",
    "screen_name = \"JoeBiden\" \n",
    "print(\"This is the follower information\")\n",
    "# get 10 followers\n",
    "for follower in tweepy.Cursor(api.followers, screen_name).items(10):\n",
    "    print(follower.id, \"      \", follower.screen_name, \"       \",  screen_name)\n",
    "    "
   ]
  },
  {
   "cell_type": "code",
   "execution_count": 6,
   "id": "bc9dd3dc",
   "metadata": {},
   "outputs": [],
   "source": [
    "#To get tweets on 'Coronavirus' or 'Vaccination'\n",
    "\n",
    "text_query = ['Coronavirus' , 'Vaccination']\n",
    "count = 10\n",
    "\n",
    "try:\n",
    " # Creation of query method using parameters\n",
    " tweets = tweepy.Cursor(api.search,q=text_query).items(count)\n",
    " \n",
    " # Pulling information from tweets iterable object\n",
    " tweets_list = [[tweet.created_at, tweet.id, tweet.text] for tweet in tweets]\n",
    " \n",
    " # Creation of dataframe from tweets list\n",
    " # Add or remove columns as you remove tweet information\n",
    " tweets_df = pd.DataFrame(tweets_list)\n",
    " \n",
    "except BaseException as e:\n",
    "    print('failed on_status,',str(e))\n",
    "    #time.sleep(3)\n",
    "    "
   ]
  },
  {
   "cell_type": "code",
   "execution_count": 7,
   "id": "4450b819",
   "metadata": {},
   "outputs": [
    {
     "data": {
      "text/html": [
       "<div>\n",
       "<style scoped>\n",
       "    .dataframe tbody tr th:only-of-type {\n",
       "        vertical-align: middle;\n",
       "    }\n",
       "\n",
       "    .dataframe tbody tr th {\n",
       "        vertical-align: top;\n",
       "    }\n",
       "\n",
       "    .dataframe thead th {\n",
       "        text-align: right;\n",
       "    }\n",
       "</style>\n",
       "<table border=\"1\" class=\"dataframe\">\n",
       "  <thead>\n",
       "    <tr style=\"text-align: right;\">\n",
       "      <th></th>\n",
       "      <th>0</th>\n",
       "      <th>1</th>\n",
       "      <th>2</th>\n",
       "    </tr>\n",
       "  </thead>\n",
       "  <tbody>\n",
       "    <tr>\n",
       "      <th>0</th>\n",
       "      <td>2021-10-09 01:58:02</td>\n",
       "      <td>1446656169141997574</td>\n",
       "      <td>RT @CTVNews: RCMP union will support Mounties ...</td>\n",
       "    </tr>\n",
       "    <tr>\n",
       "      <th>1</th>\n",
       "      <td>2021-10-09 01:57:56</td>\n",
       "      <td>1446656142461923330</td>\n",
       "      <td>RT @NewsfirstSL: 169 Vaccination Centers Open ...</td>\n",
       "    </tr>\n",
       "    <tr>\n",
       "      <th>2</th>\n",
       "      <td>2021-10-09 01:57:54</td>\n",
       "      <td>1446656132504686595</td>\n",
       "      <td>\"Dr. Debess said state mandates requiring work...</td>\n",
       "    </tr>\n",
       "    <tr>\n",
       "      <th>3</th>\n",
       "      <td>2021-10-09 01:56:59</td>\n",
       "      <td>1446655903256793091</td>\n",
       "      <td>169 Vaccination Centers Open on Saturday (9).\\...</td>\n",
       "    </tr>\n",
       "    <tr>\n",
       "      <th>4</th>\n",
       "      <td>2021-10-09 01:55:48</td>\n",
       "      <td>1446655605205315586</td>\n",
       "      <td>RT @AP: The number of Americans getting COVID-...</td>\n",
       "    </tr>\n",
       "    <tr>\n",
       "      <th>5</th>\n",
       "      <td>2021-10-09 01:55:07</td>\n",
       "      <td>1446655433825947652</td>\n",
       "      <td>Victoria records 1965 new COVID-19  cases, fiv...</td>\n",
       "    </tr>\n",
       "    <tr>\n",
       "      <th>6</th>\n",
       "      <td>2021-10-09 01:54:07</td>\n",
       "      <td>1446655181018464257</td>\n",
       "      <td>With journalism like this no wonder our govern...</td>\n",
       "    </tr>\n",
       "    <tr>\n",
       "      <th>7</th>\n",
       "      <td>2021-10-09 01:53:28</td>\n",
       "      <td>1446655017113554945</td>\n",
       "      <td>RT @News24: Researchers have developed a micro...</td>\n",
       "    </tr>\n",
       "    <tr>\n",
       "      <th>8</th>\n",
       "      <td>2021-10-09 01:52:57</td>\n",
       "      <td>1446654885978533891</td>\n",
       "      <td>An example of a clear and transparent Covid va...</td>\n",
       "    </tr>\n",
       "    <tr>\n",
       "      <th>9</th>\n",
       "      <td>2021-10-09 01:52:28</td>\n",
       "      <td>1446654764918345736</td>\n",
       "      <td>RT @CTVNews: RCMP union will support Mounties ...</td>\n",
       "    </tr>\n",
       "  </tbody>\n",
       "</table>\n",
       "</div>"
      ],
      "text/plain": [
       "                    0                    1  \\\n",
       "0 2021-10-09 01:58:02  1446656169141997574   \n",
       "1 2021-10-09 01:57:56  1446656142461923330   \n",
       "2 2021-10-09 01:57:54  1446656132504686595   \n",
       "3 2021-10-09 01:56:59  1446655903256793091   \n",
       "4 2021-10-09 01:55:48  1446655605205315586   \n",
       "5 2021-10-09 01:55:07  1446655433825947652   \n",
       "6 2021-10-09 01:54:07  1446655181018464257   \n",
       "7 2021-10-09 01:53:28  1446655017113554945   \n",
       "8 2021-10-09 01:52:57  1446654885978533891   \n",
       "9 2021-10-09 01:52:28  1446654764918345736   \n",
       "\n",
       "                                                   2  \n",
       "0  RT @CTVNews: RCMP union will support Mounties ...  \n",
       "1  RT @NewsfirstSL: 169 Vaccination Centers Open ...  \n",
       "2  \"Dr. Debess said state mandates requiring work...  \n",
       "3  169 Vaccination Centers Open on Saturday (9).\\...  \n",
       "4  RT @AP: The number of Americans getting COVID-...  \n",
       "5  Victoria records 1965 new COVID-19  cases, fiv...  \n",
       "6  With journalism like this no wonder our govern...  \n",
       "7  RT @News24: Researchers have developed a micro...  \n",
       "8  An example of a clear and transparent Covid va...  \n",
       "9  RT @CTVNews: RCMP union will support Mounties ...  "
      ]
     },
     "execution_count": 7,
     "metadata": {},
     "output_type": "execute_result"
    }
   ],
   "source": [
    "tweets_df"
   ]
  },
  {
   "cell_type": "code",
   "execution_count": null,
   "id": "bf515441",
   "metadata": {},
   "outputs": [],
   "source": []
  },
  {
   "cell_type": "code",
   "execution_count": null,
   "id": "6f94a333",
   "metadata": {},
   "outputs": [],
   "source": []
  }
 ],
 "metadata": {
  "kernelspec": {
   "display_name": "Python 3 (ipykernel)",
   "language": "python",
   "name": "python3"
  },
  "language_info": {
   "codemirror_mode": {
    "name": "ipython",
    "version": 3
   },
   "file_extension": ".py",
   "mimetype": "text/x-python",
   "name": "python",
   "nbconvert_exporter": "python",
   "pygments_lexer": "ipython3",
   "version": "3.8.11"
  }
 },
 "nbformat": 4,
 "nbformat_minor": 5
}
